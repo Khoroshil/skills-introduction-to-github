{
  "nbformat": 4,
  "nbformat_minor": 0,
  "metadata": {
    "colab": {
      "provenance": [],
      "include_colab_link": true
    },
    "kernelspec": {
      "name": "python3",
      "display_name": "Python 3"
    },
    "language_info": {
      "name": "python"
    }
  },
  "cells": [
    {
      "cell_type": "markdown",
      "metadata": {
        "id": "view-in-github",
        "colab_type": "text"
      },
      "source": [
        "<a href=\"https://colab.research.google.com/github/Khoroshil/skills-introduction-to-github/blob/main/Readme2.ipynb\" target=\"_parent\"><img src=\"https://colab.research.google.com/assets/colab-badge.svg\" alt=\"Open In Colab\"/></a>"
      ]
    },
    {
      "cell_type": "markdown",
      "source": [
        "**Навигация по уроку**\n",
        "\n",
        "1. [Введение в Python. Синтаксис](https://colab.research.google.com/drive/1YBLgd6tZYlkhwpnEc4IM8tVnewLUnlUO#scrollTo=yqZjRAldfz_L)\n",
        "2. [Практика кода](https://colab.research.google.com/drive/1m-Ph90c-9S_gZchdG1ARoY2YjMTryKkl#scrollTo=UdxWiGmA63K2)\n",
        "3. Домашняя работа"
      ],
      "metadata": {
        "id": "ARGgA85EgS0p"
      }
    },
    {
      "cell_type": "markdown",
      "source": [
        "В домашней работе необходимо, используя знания теоретической части занятия и полученные практические навыки, решить, представленные ниже задачи. Для этого необходимо скопировать Блокнот (см. раздел 1.1.), решить в нем все задач, открыть общий доступ к Блокноту ((см. раздел 1.1.) и отправить ссылку на Блокнот куратору на проверку. Для прохождения урока необходимо решить минимум 2 задачи. Желаем удачи!"
      ],
      "metadata": {
        "id": "EdiQPIVgklWr"
      }
    },
    {
      "cell_type": "markdown",
      "source": [
        "## Задача 1. Приветствие."
      ],
      "metadata": {
        "id": "ZzjUAyrL6jgO"
      }
    },
    {
      "cell_type": "markdown",
      "source": [
        "**Условие.** Напишите программу, запрашивающую у пользователя его имя. В ответ\n",
        "на ввод на экране должно появиться приветствие с обращением по имени,\n",
        "введенному с клавиатуры ранее.\n"
      ],
      "metadata": {
        "id": "M4OAOB6s6mU7"
      }
    },
    {
      "cell_type": "code",
      "source": [
        "#Напишите свое решение\n",
        "b = input(\"Напишите своё имя:\")\n",
        "print(\"Привет!\" , b)"
      ],
      "metadata": {
        "id": "C2W-ZDOF6mzF",
        "outputId": "1a1f8757-61ad-4d7a-ea74-3d5dad115ee1",
        "colab": {
          "base_uri": "https://localhost:8080/"
        }
      },
      "execution_count": null,
      "outputs": [
        {
          "output_type": "stream",
          "name": "stdout",
          "text": [
            "Напишите своё имя:aervbt\n",
            "Привет! aervbt\n"
          ]
        }
      ]
    },
    {
      "cell_type": "markdown",
      "source": [
        "## Задача 2. Сувениры и безделушки."
      ],
      "metadata": {
        "id": "UG8mwj2-eALV"
      }
    },
    {
      "cell_type": "markdown",
      "source": [
        "**Условие.** Интернет-магазин занимается продажей различных сувениров и безделушек. Каждый сувенир весит 75 г, а безделушка – 112 г. Напишите программу, запрашивающую у пользователя количество тех и других покупок,\n",
        "после чего выведите на экран общий вес посылки.\n"
      ],
      "metadata": {
        "id": "ay2EfeBreALW"
      }
    },
    {
      "cell_type": "code",
      "source": [
        "#Напишите свое решение\n",
        "# Запрашиваем у пользователя количество сувениров и безделушек\n",
        "souvenir = int(input(\"Пожалуйста введите количество сувениров: \"))\n",
        "trinkets = int(input(\"Пожалуйста введите количество безделушек: \"))\n",
        "\n",
        "# Определяем вес одного сувенира и одной безделушки\n",
        "souvenir_weight = 75\n",
        "trinket_weight = 112\n",
        "\n",
        "# Вычисляем общий вес сувениров и безделушек\n",
        "weight_souvenir_pack = souvenir * souvenir_weight\n",
        "weight_trinkets_pack = trinkets * trinket_weight\n",
        "\n",
        "# Вычисляем общий вес посылки\n",
        "total_weight = weight_souvenir_pack + weight_trinkets_pack\n",
        "\n",
        "# Выводим общий вес посылки\n",
        "print(\"Общий вес посылки составляет:\", total_weight)\n"
      ],
      "metadata": {
        "id": "WY-KRVHyeALX",
        "outputId": "35b00960-731b-43f3-9548-fa6d4f8e4e30",
        "colab": {
          "base_uri": "https://localhost:8080/"
        }
      },
      "execution_count": null,
      "outputs": [
        {
          "output_type": "stream",
          "name": "stdout",
          "text": [
            "Пожалуйста введите количество сувениров: 1\n",
            "Пожалуйста введите количество безделушек: 4\n",
            "Общий вес посылки составляет: 523\n"
          ]
        }
      ]
    },
    {
      "cell_type": "markdown",
      "source": [
        "## Задача 3. Сложные проценты"
      ],
      "metadata": {
        "id": "v2IXqDTVeBfM"
      }
    },
    {
      "cell_type": "markdown",
      "source": [
        "**Условие.** Представьте, что вы открыли в банке сберегательный счет под 4 % годовых. Проценты банк рассчитывает в конце года и добавляет к сумме счета.\n",
        "Напишите программу, которая запрашивает у пользователя сумму первоначального депозита, после чего рассчитывает и выводит на экран сумму\n",
        "на счету в конце первого, второго и третьего годов. Все суммы должны\n",
        "быть округлены до двух знаков после запятой.\n",
        "\n"
      ],
      "metadata": {
        "id": "rGE3sh2ueBfN"
      }
    },
    {
      "cell_type": "code",
      "source": [
        "#Напишите свое решение\n",
        "deposit = float(input(\"Введите сумму первоначального депозита: \"))\n",
        "\n",
        "interest_rate = 0.04\n",
        "\n",
        "year1 = deposit * (1 + interest_rate)\n",
        "year2 = year1 * (1 + interest_rate)\n",
        "year3 = year2 * (1 + interest_rate)\n",
        "\n",
        "print(f\"Сумма на счету в конце первого года: {round(year1, 2)}\")\n",
        "print(f\"Сумма на счету в конце второго года: {round(year2, 2)}\")\n",
        "print(f\"Сумма на счету в конце третьего года: {round(year3, 2)}\")"
      ],
      "metadata": {
        "id": "0DYIIu98eBfN",
        "outputId": "a425b0cf-40fc-4c1b-f98c-5e9c44ac8ff4",
        "colab": {
          "base_uri": "https://localhost:8080/"
        }
      },
      "execution_count": null,
      "outputs": [
        {
          "output_type": "stream",
          "name": "stdout",
          "text": [
            "Введите сумму первоначального депозита: 1234\n",
            "Сумма на счету в конце первого года: 1283.36\n",
            "Сумма на счету в конце второго года: 1334.69\n",
            "Сумма на счету в конце третьего года: 1388.08\n"
          ]
        }
      ]
    },
    {
      "cell_type": "markdown",
      "source": [
        "## Задача 4. Арифметика"
      ],
      "metadata": {
        "id": "d9y6YzAvuW4l"
      }
    },
    {
      "cell_type": "markdown",
      "source": [
        "**Условие.** Создайте программу, которая запрашивает у пользователя два целых числа a и b, после чего выводит на экран результаты следующих математических операций:\n",
        "* сумма a и b;\n",
        "* разница между a и b;\n",
        "* произведение a и b;\n",
        "* частное от деления a на b;\n",
        "* остаток от деления a на b;\n",
        "* десятичный логарифм числа a;\n",
        "* результат возведения числа a в степень b."
      ],
      "metadata": {
        "id": "ZeZZ2IrUuW4m"
      }
    },
    {
      "cell_type": "code",
      "source": [
        "#Напишите свое решение\n",
        "import math\n",
        "\n",
        "a = int(input(\"Введите целое число a: \"))\n",
        "b = int(input(\"Введите целое число b: \"))\n",
        "\n",
        "sum_result = a + b\n",
        "difference = a - b\n",
        "product = a * b\n",
        "quotient = a / b\n",
        "remainder = a % b\n",
        "logarithm = math.log10(a)\n",
        "power = a ** b\n",
        "\n",
        "print(f\"Сумма: {sum_result}\")\n",
        "print(f\"Разница: {difference}\")\n",
        "print(f\"Произведение: {product}\")\n",
        "print(f\"Частное: {quotient}\")\n",
        "print(f\"Остаток от деления: {remainder}\")\n",
        "print(f\"Десятичный логарифм числа a: {logarithm}\")\n",
        "print(f\"Результат возведения a в степень b: {power}\")"
      ],
      "metadata": {
        "id": "gCbjinmpuW4m",
        "outputId": "680ae989-c5ab-49b0-f9a1-b9e44026fb17",
        "colab": {
          "base_uri": "https://localhost:8080/"
        }
      },
      "execution_count": null,
      "outputs": [
        {
          "output_type": "stream",
          "name": "stdout",
          "text": [
            "Введите целое число a: 6\n",
            "Введите целое число b: 6\n",
            "Сумма: 12\n",
            "Разница: 0\n",
            "Произведение: 36\n",
            "Частное: 1.0\n",
            "Остаток от деления: 0\n",
            "Десятичный логарифм числа a: 0.7781512503836436\n",
            "Результат возведения a в степень b: 46656\n"
          ]
        }
      ]
    },
    {
      "cell_type": "markdown",
      "source": [
        "## Задача 5. Размен"
      ],
      "metadata": {
        "id": "EcSSCSnpeBto"
      }
    },
    {
      "cell_type": "markdown",
      "source": [
        "**Условие.** Представьте, что вы пишете программное обеспечение для автоматической кассы в  магазине самообслуживания. Одной из функций, заложенных в кассу, должен быть расчет сдачи в случае оплаты покупателем наличными.\n",
        "Напишите программу, которая будет запрашивать у пользователя сумму сдачи в копейках. После этого она должна рассчитать и вывести на экран, сколько и каких монет потребуется для выдачи указанной суммы, при условии что должно быть задействовано минимально возможное количество монет. Допустим, у нас есть в распоряжении монеты достоинством в 1, 5, 10, 50 копеек, а также в 1, 2 и 5 рублей.\n"
      ],
      "metadata": {
        "id": "VfX5FQQreBtp"
      }
    },
    {
      "cell_type": "code",
      "source": [
        "#Напишите свое решение\n",
        "change = int(input(\"Введите сумму сдачи в копейках: \"))\n",
        "\n",
        "coins = [500, 200, 100, 50, 10, 5, 1]\n",
        "\n",
        "coin_count = {}\n",
        "\n",
        "for coin in coins:\n",
        "    if change >= coin:\n",
        "        count = change // coin\n",
        "        coin_count[coin] = count\n",
        "        change -= count * coin\n",
        "\n",
        "print(\"Монеты для выдачи сдачи:\")\n",
        "for coin, count in coin_count.items():\n",
        "    if coin >= 100:\n",
        "        print(f\"{coin // 100} руб.: {count} шт.\")\n",
        "    else:\n",
        "        print(f\"{coin} коп.: {count} шт.\")"
      ],
      "metadata": {
        "id": "4ecMH2bjeBtp",
        "outputId": "2fe64046-ff0d-4e15-d0fb-7e66a5500840",
        "colab": {
          "base_uri": "https://localhost:8080/"
        }
      },
      "execution_count": null,
      "outputs": [
        {
          "output_type": "stream",
          "name": "stdout",
          "text": [
            "Введите сумму сдачи в копейках: 1567\n",
            "Монеты для выдачи сдачи:\n",
            "5 руб.: 3 шт.\n",
            "50 коп.: 1 шт.\n",
            "10 коп.: 1 шт.\n",
            "5 коп.: 1 шт.\n",
            "1 коп.: 2 шт.\n"
          ]
        }
      ]
    },
    {
      "cell_type": "markdown",
      "source": [
        "## Задача 6. Вчерашний хлеб"
      ],
      "metadata": {
        "id": "26soP3cfeB8i"
      }
    },
    {
      "cell_type": "markdown",
      "source": [
        "**Условие.** Пекарня продает хлеб по 49 рублей за буханку. Скидка на вчерашний хлеб составляет 60 %. Напишите программу, которая будет запрашивать у пользователя количество приобретенных вчерашних буханок хлеба. В вывод на экран должны быть включены обычная цена за буханку, цена со скидкой и общая стоимость приобретенного хлеба. Все значения должны быть выведены на отдельных строках с соответствующими описаниями. Используйте для вывода формат с двумя знаками после запятой и 5-ю знакоместами.\n"
      ],
      "metadata": {
        "id": "t-cYNmWQeB8i"
      }
    },
    {
      "cell_type": "code",
      "source": [
        "#Напишите свое решение\n",
        "quantity = int(input(\"Введите количество вчерашних буханок хлеба: \"))\n",
        "\n",
        "regular_price = 49.00\n",
        "\n",
        "discount = 0.60\n",
        "\n",
        "discounted_price = regular_price * (1 - discount)\n",
        "\n",
        "total_cost = discounted_price * quantity\n",
        "\n",
        "print(f\"Обычная цена за буханку: {regular_price:5.2f} руб.\")\n",
        "print(f\"Цена со скидкой: {discounted_price:5.2f} руб.\")\n",
        "print(f\"Общая стоимость: {total_cost:5.2f} руб.\")"
      ],
      "metadata": {
        "id": "R2-WoQoveB8j",
        "outputId": "b4ae6e5c-dc10-42ee-c52e-9449ebb8f63c",
        "colab": {
          "base_uri": "https://localhost:8080/"
        }
      },
      "execution_count": null,
      "outputs": [
        {
          "output_type": "stream",
          "name": "stdout",
          "text": [
            "Введите количество вчерашних буханок хлеба: 15\n",
            "Обычная цена за буханку: 49.00 руб.\n",
            "Цена со скидкой: 19.60 руб.\n",
            "Общая стоимость: 294.00 руб.\n"
          ]
        }
      ]
    }
  ]
}